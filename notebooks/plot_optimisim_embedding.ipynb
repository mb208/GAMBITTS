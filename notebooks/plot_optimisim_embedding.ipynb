{
 "cells": [
  {
   "cell_type": "code",
   "execution_count": null,
   "metadata": {},
   "outputs": [
    {
     "name": "stderr",
     "output_type": "stream",
     "text": [
      "/home/marcbr/miniconda3/envs/nats/lib/python3.12/site-packages/tqdm/auto.py:21: TqdmWarning: IProgress not found. Please update jupyter and ipywidgets. See https://ipywidgets.readthedocs.io/en/stable/user_install.html\n",
      "  from .autonotebook import tqdm as notebook_tqdm\n"
     ]
    }
   ],
   "source": [
    "from pythae.models import VAE, VAEConfig\n",
    "from pythae.trainers import BaseTrainerConfig\n",
    "from sklearn.model_selection import train_test_split\n",
    "from torch.utils.data import DataLoader\n",
    "from transformers import BertTokenizer, BertModel\n",
    "from tqdm import tqdm\n",
    "import torch \n",
    "import pandas as pd \n",
    "import numpy as np\n",
    "\n",
    "from collections import Counter\n",
    "import pickle"
   ]
  },
  {
   "cell_type": "code",
   "execution_count": 3,
   "metadata": {},
   "outputs": [],
   "source": [
    "import matplotlib.pyplot as plt\n",
    "import os "
   ]
  },
  {
   "cell_type": "code",
   "execution_count": null,
   "metadata": {},
   "outputs": [],
   "source": [
    "import os \n",
    "os.chdir('../')\n"
   ]
  },
  {
   "cell_type": "code",
   "execution_count": 5,
   "metadata": {},
   "outputs": [],
   "source": [
    "from notebooks.utils import VAEDataset\n"
   ]
  },
  {
   "cell_type": "code",
   "execution_count": 6,
   "metadata": {},
   "outputs": [],
   "source": [
    "def list_folders_by_newest(path):\n",
    "    # Get only subdirectories\n",
    "    folders = [f for f in os.listdir(path) if os.path.isdir(os.path.join(path, f))]\n",
    "    \n",
    "    # Sort by modification time (most recent first)\n",
    "    folders_sorted = sorted(\n",
    "        folders,\n",
    "        key=lambda x: os.path.getmtime(os.path.join(path, x)),\n",
    "        reverse=True\n",
    "    )\n",
    "    return folders_sorted"
   ]
  },
  {
   "cell_type": "code",
   "execution_count": 7,
   "metadata": {},
   "outputs": [
    {
     "name": "stderr",
     "output_type": "stream",
     "text": [
      "100%|██████████| 83/83 [00:08<00:00,  9.55it/s]\n"
     ]
    }
   ],
   "source": [
    "optimism_dataset = VAEDataset(\n",
    "        data_folder = 'data/simulations/qwen2.5:7b_2025_07_27/',\n",
    "        file =  'optimism_interventions_1000.csv', \n",
    "        text_column=\"text\")"
   ]
  },
  {
   "cell_type": "code",
   "execution_count": 8,
   "metadata": {},
   "outputs": [
    {
     "data": {
      "text/plain": [
       "['VAE_training_2025-01-02_18-39-47',\n",
       " 'VAE_training_2024-11-21_23-16-48',\n",
       " 'VAE_training_2024-11-19_12-19-53']"
      ]
     },
     "execution_count": 8,
     "metadata": {},
     "output_type": "execute_result"
    }
   ],
   "source": [
    "list_folders_by_newest('models/vae_model/optimism')"
   ]
  },
  {
   "cell_type": "code",
   "execution_count": 8,
   "metadata": {},
   "outputs": [],
   "source": [
    "optimism_vae = VAE.load_from_folder(\n",
    "    'models/vae_model/optimism/VAE_training_2025-01-02_18-39-47/final_model'\n",
    ")"
   ]
  },
  {
   "cell_type": "code",
   "execution_count": null,
   "metadata": {},
   "outputs": [
    {
     "data": {
      "text/html": [
       "<div>\n",
       "<style scoped>\n",
       "    .dataframe tbody tr th:only-of-type {\n",
       "        vertical-align: middle;\n",
       "    }\n",
       "\n",
       "    .dataframe tbody tr th {\n",
       "        vertical-align: top;\n",
       "    }\n",
       "\n",
       "    .dataframe thead th {\n",
       "        text-align: right;\n",
       "    }\n",
       "</style>\n",
       "<table border=\"1\" class=\"dataframe\">\n",
       "  <thead>\n",
       "    <tr style=\"text-align: right;\">\n",
       "      <th></th>\n",
       "      <th>text</th>\n",
       "      <th>rating</th>\n",
       "      <th>stepsprevday</th>\n",
       "      <th>currloc</th>\n",
       "    </tr>\n",
       "  </thead>\n",
       "  <tbody>\n",
       "    <tr>\n",
       "      <th>0</th>\n",
       "      <td>You took more than 15,000 steps yesterday. Kee...</td>\n",
       "      <td>0</td>\n",
       "      <td>more than 15,000</td>\n",
       "      <td>home</td>\n",
       "    </tr>\n",
       "    <tr>\n",
       "      <th>1</th>\n",
       "      <td>Yesterday was a good day for stepping. Maybe t...</td>\n",
       "      <td>1</td>\n",
       "      <td>more than 15,000</td>\n",
       "      <td>home</td>\n",
       "    </tr>\n",
       "    <tr>\n",
       "      <th>2</th>\n",
       "      <td>It's great that you hit your step goal again. ...</td>\n",
       "      <td>2</td>\n",
       "      <td>more than 15,000</td>\n",
       "      <td>home</td>\n",
       "    </tr>\n",
       "    <tr>\n",
       "      <th>3</th>\n",
       "      <td>Taking over 15,000 steps in one day is no smal...</td>\n",
       "      <td>3</td>\n",
       "      <td>more than 15,000</td>\n",
       "      <td>home</td>\n",
       "    </tr>\n",
       "    <tr>\n",
       "      <th>4</th>\n",
       "      <td>Your hard work is paying off - you're consiste...</td>\n",
       "      <td>4</td>\n",
       "      <td>more than 15,000</td>\n",
       "      <td>home</td>\n",
       "    </tr>\n",
       "  </tbody>\n",
       "</table>\n",
       "</div>"
      ],
      "text/plain": [
       "                                                text  rating  \\\n",
       "0  You took more than 15,000 steps yesterday. Kee...       0   \n",
       "1  Yesterday was a good day for stepping. Maybe t...       1   \n",
       "2  It's great that you hit your step goal again. ...       2   \n",
       "3  Taking over 15,000 steps in one day is no smal...       3   \n",
       "4  Your hard work is paying off - you're consiste...       4   \n",
       "\n",
       "       stepsprevday currloc  \n",
       "0  more than 15,000    home  \n",
       "1  more than 15,000    home  \n",
       "2  more than 15,000    home  \n",
       "3  more than 15,000    home  \n",
       "4  more than 15,000    home  "
      ]
     },
     "execution_count": 9,
     "metadata": {},
     "output_type": "execute_result"
    }
   ],
   "source": [
    "optimism_dataset.data.head()"
   ]
  },
  {
   "cell_type": "code",
   "execution_count": 10,
   "metadata": {},
   "outputs": [],
   "source": [
    "optimism_vae.eval()\n",
    "with torch.no_grad():\n",
    "    embed = optimism_vae.encoder(optimism_dataset.text_embeddings)"
   ]
  },
  {
   "cell_type": "code",
   "execution_count": 11,
   "metadata": {},
   "outputs": [],
   "source": [
    "optimism_dataset.data['embedding'] = embed['embedding'].numpy() \n"
   ]
  },
  {
   "cell_type": "code",
   "execution_count": 12,
   "metadata": {},
   "outputs": [],
   "source": [
    "save_folder = './results/plots/supplement/non_experiment_plots'\n",
    "if not os.path.exists(save_folder):\n",
    "    os.makedirs(save_folder)\n"
   ]
  },
  {
   "cell_type": "code",
   "execution_count": null,
   "metadata": {},
   "outputs": [
    {
     "data": {
      "image/png": "[encoded data removed]",
      "text/plain": [
       "<Figure size 640x480 with 1 Axes>"
      ]
     },
     "metadata": {},
     "output_type": "display_data"
    }
   ],
   "source": [
    "ax = optimism_dataset.data.plot.scatter(x='embedding', y='rating')\n",
    "ax.set_xlabel(\"VAE Score\")\n",
    "ax.set_ylabel(\"Input Rating, QWEN\")\n",
    "fig = ax.get_figure()\n",
    "filename = \"vae_score_vs_rating_outliers.pckl\"\n",
    "fig.savefig(os.path.join(save_folder, filename), bbox_inches=\"tight\")\n",
    "with open(os.path.join(save_folder, filename), \"wb\") as f:\n",
    "    pickle.dump(fig, f)\n"
   ]
  },
  {
   "cell_type": "code",
   "execution_count": 15,
   "metadata": {},
   "outputs": [
    {
     "data": {
      "text/html": [
       "<div>\n",
       "<style scoped>\n",
       "    .dataframe tbody tr th:only-of-type {\n",
       "        vertical-align: middle;\n",
       "    }\n",
       "\n",
       "    .dataframe tbody tr th {\n",
       "        vertical-align: top;\n",
       "    }\n",
       "\n",
       "    .dataframe thead th {\n",
       "        text-align: right;\n",
       "    }\n",
       "</style>\n",
       "<table border=\"1\" class=\"dataframe\">\n",
       "  <thead>\n",
       "    <tr style=\"text-align: right;\">\n",
       "      <th></th>\n",
       "      <th>text</th>\n",
       "      <th>embedding</th>\n",
       "    </tr>\n",
       "  </thead>\n",
       "  <tbody>\n",
       "    <tr>\n",
       "      <th>2803</th>\n",
       "      <td>It's not just about yesterday or today, though...</td>\n",
       "      <td>2.069258</td>\n",
       "    </tr>\n",
       "    <tr>\n",
       "      <th>6264</th>\n",
       "      <td>It seems like a lot of people find that gettin...</td>\n",
       "      <td>2.053869</td>\n",
       "    </tr>\n",
       "    <tr>\n",
       "      <th>21252</th>\n",
       "      <td>\\n</td>\n",
       "      <td>3.966808</td>\n",
       "    </tr>\n",
       "    <tr>\n",
       "      <th>21253</th>\n",
       "      <td>\\n</td>\n",
       "      <td>3.966808</td>\n",
       "    </tr>\n",
       "    <tr>\n",
       "      <th>21274</th>\n",
       "      <td>\\n</td>\n",
       "      <td>3.966808</td>\n",
       "    </tr>\n",
       "    <tr>\n",
       "      <th>...</th>\n",
       "      <td>...</td>\n",
       "      <td>...</td>\n",
       "    </tr>\n",
       "    <tr>\n",
       "      <th>21907</th>\n",
       "      <td>\\n</td>\n",
       "      <td>3.966808</td>\n",
       "    </tr>\n",
       "    <tr>\n",
       "      <th>21908</th>\n",
       "      <td>\\n</td>\n",
       "      <td>3.966808</td>\n",
       "    </tr>\n",
       "    <tr>\n",
       "      <th>21909</th>\n",
       "      <td>\\n</td>\n",
       "      <td>3.966808</td>\n",
       "    </tr>\n",
       "    <tr>\n",
       "      <th>21910</th>\n",
       "      <td>\\n</td>\n",
       "      <td>3.966808</td>\n",
       "    </tr>\n",
       "    <tr>\n",
       "      <th>21911</th>\n",
       "      <td>\\n</td>\n",
       "      <td>3.966808</td>\n",
       "    </tr>\n",
       "  </tbody>\n",
       "</table>\n",
       "<p>72 rows × 2 columns</p>\n",
       "</div>"
      ],
      "text/plain": [
       "                                                    text  embedding\n",
       "2803   It's not just about yesterday or today, though...   2.069258\n",
       "6264   It seems like a lot of people find that gettin...   2.053869\n",
       "21252                                                 \\n   3.966808\n",
       "21253                                                 \\n   3.966808\n",
       "21274                                                 \\n   3.966808\n",
       "...                                                  ...        ...\n",
       "21907                                                 \\n   3.966808\n",
       "21908                                                 \\n   3.966808\n",
       "21909                                                 \\n   3.966808\n",
       "21910                                                 \\n   3.966808\n",
       "21911                                                 \\n   3.966808\n",
       "\n",
       "[72 rows x 2 columns]"
      ]
     },
     "execution_count": 15,
     "metadata": {},
     "output_type": "execute_result"
    }
   ],
   "source": [
    "optimism_dataset.data.loc[optimism_dataset.data['embedding'] > 2, ['text', 'embedding']]"
   ]
  },
  {
   "cell_type": "code",
   "execution_count": 41,
   "metadata": {},
   "outputs": [
    {
     "data": {
      "text/plain": [
       "\"Tomorrow is a brand new day, and that means you've got another chance to hit 10,000 steps - make it happen!\""
      ]
     },
     "execution_count": 41,
     "metadata": {},
     "output_type": "execute_result"
    }
   ],
   "source": [
    "lowest_rating = optimism_dataset.data.loc[optimism_dataset.data.rating==1]\n",
    "lowest_rating.loc[lowest_rating['embedding'].idxmin(), 'text']"
   ]
  },
  {
   "cell_type": "code",
   "execution_count": 54,
   "metadata": {},
   "outputs": [
    {
     "data": {
      "text/plain": [
       "\"You're on a roll after yesterday's success - keep up the pace and see where it takes you!\""
      ]
     },
     "execution_count": 54,
     "metadata": {},
     "output_type": "execute_result"
    }
   ],
   "source": [
    "lowest_rating.loc[lowest_rating['embedding'] < -.5, ['text', 'embedding']].iloc[8]['text']"
   ]
  },
  {
   "cell_type": "code",
   "execution_count": 18,
   "metadata": {},
   "outputs": [
    {
     "data": {
      "image/png": "[encoded data removed]",
      "text/plain": [
       "<Figure size 640x480 with 1 Axes>"
      ]
     },
     "metadata": {},
     "output_type": "display_data"
    }
   ],
   "source": [
    "optimism_dataset.data.loc[optimism_dataset.data.embedding < 3].plot.scatter(x='embedding', y='rating')\n",
    "ax.set_xlabel(\"VAE Score\")\n",
    "ax.set_ylabel(\"Input Rating\")\n",
    "fig = ax.get_figure()\n",
    "filename = \"vae_score_vs_rating.pckl\"\n",
    "# fig.savefig(os.path.join(save_folder, filename), bbox_inches=\"tight\")\n",
    "with open(os.path.join(save_folder, filename), \"wb\") as f:\n",
    "    pickle.dump(fig, f)"
   ]
  }
 ],
 "metadata": {
  "kernelspec": {
   "display_name": "nats",
   "language": "python",
   "name": "python3"
  },
  "language_info": {
   "codemirror_mode": {
    "name": "ipython",
    "version": 3
   },
   "file_extension": ".py",
   "mimetype": "text/x-python",
   "name": "python",
   "nbconvert_exporter": "python",
   "pygments_lexer": "ipython3",
   "version": "3.12.7"
  }
 },
 "nbformat": 4,
 "nbformat_minor": 2
}
